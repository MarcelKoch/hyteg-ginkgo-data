{
 "cells": [
  {
   "cell_type": "code",
   "execution_count": 1,
   "outputs": [],
   "source": [
    "import json as js\n"
   ],
   "metadata": {
    "collapsed": false,
    "pycharm": {
     "name": "#%%\n"
    }
   }
  },
  {
   "cell_type": "code",
   "execution_count": 2,
   "outputs": [],
   "source": [
    "import os\n",
    "import re\n",
    "\n",
    "import pandas as pd\n",
    "\n",
    "from process import *\n",
    "from tokamak_helpers import *"
   ],
   "metadata": {
    "collapsed": false,
    "pycharm": {
     "name": "#%%\n"
    }
   }
  },
  {
   "cell_type": "code",
   "execution_count": 3,
   "outputs": [],
   "source": [
    "iter_re = re.compile(\"converged after (\\d+) iterations\")\n",
    "\n",
    "def get_iterations(files):\n",
    "    iters = []\n",
    "    for f in files:\n",
    "        md = get_metadata(f.name)\n",
    "        with open(f.path, \"r\") as file:\n",
    "            for line in file:\n",
    "                match = iter_re.search(line)\n",
    "                if match:\n",
    "                    iters.append(dict(**md, iter=int(match.group(1))))\n",
    "    return iters\n"
   ],
   "metadata": {
    "collapsed": false,
    "pycharm": {
     "name": "#%%\n"
    }
   }
  },
  {
   "cell_type": "code",
   "execution_count": 4,
   "outputs": [],
   "source": [
    "def ginkgo_non_solve_cost(db: Database):\n",
    "    df_assembly = db.get_df(\"assembly\")\n",
    "    df_setup = db.get_df(\"set-up\")\n",
    "    df_cg_apply = db.get_df(\"cg solver apply\")\n",
    "    df_cgc = db.get_df(\"coarse grid solver\")\n",
    "\n",
    "    df_assembly.node = \"assembly\"\n",
    "    df_setup.node = \"setup\"\n",
    "    df_cg_apply.node = \"cg_apply\"\n",
    "    df_cgc.node = \"total\"\n",
    "\n",
    "    df = pd.concat([df_assembly, df_setup, df_cg_apply, df_cgc], sort=False)\n",
    "\n",
    "    df = apply_filter(df)\n",
    "    df = df[df.solver == \"ginkgo\"].drop(columns=\"solver\")\n",
    "\n",
    "    rt = df.groupby([\"min_l\", \"node\"]).sum()[\"max\"].unstack(\"node\")\n",
    "\n",
    "    rt = rt.assign(rest=lambda df: df.total - (df.setup + df.assembly + df.cg_apply))\n",
    "\n",
    "    return rt"
   ],
   "metadata": {
    "collapsed": false,
    "pycharm": {
     "name": "#%%\n"
    }
   }
  },
  {
   "cell_type": "code",
   "execution_count": 5,
   "outputs": [],
   "source": [
    "before_json = [f.path for f in os.scandir(\"tokamak-mi100/\") if \"ginkgo\" in f.name and \".json\" in f.name]\n",
    "before_db = Database(before_json)"
   ],
   "metadata": {
    "collapsed": false,
    "pycharm": {
     "name": "#%%\n"
    }
   }
  },
  {
   "cell_type": "code",
   "execution_count": 6,
   "outputs": [
    {
     "data": {
      "text/plain": "node     assembly   cg_apply     setup       total       rest\nmin_l                                                        \n0        0.000972   0.176719  0.105460    1.927634   1.644482\n1        0.006511   0.269747  0.131947    2.376865   1.968660\n2        0.049381   0.894550  0.247526    4.507428   3.315972\n3        0.391872   2.376047  0.084128    5.023554   2.171507\n4        3.338706   3.652877  0.078437    8.966324   1.896305\n5       29.975894  14.941199  0.282375   49.723011   4.523543\n6      259.202071  12.183814  1.050224  285.927049  13.490939",
      "text/html": "<div>\n<style scoped>\n    .dataframe tbody tr th:only-of-type {\n        vertical-align: middle;\n    }\n\n    .dataframe tbody tr th {\n        vertical-align: top;\n    }\n\n    .dataframe thead th {\n        text-align: right;\n    }\n</style>\n<table border=\"1\" class=\"dataframe\">\n  <thead>\n    <tr style=\"text-align: right;\">\n      <th>node</th>\n      <th>assembly</th>\n      <th>cg_apply</th>\n      <th>setup</th>\n      <th>total</th>\n      <th>rest</th>\n    </tr>\n    <tr>\n      <th>min_l</th>\n      <th></th>\n      <th></th>\n      <th></th>\n      <th></th>\n      <th></th>\n    </tr>\n  </thead>\n  <tbody>\n    <tr>\n      <th>0</th>\n      <td>0.000972</td>\n      <td>0.176719</td>\n      <td>0.105460</td>\n      <td>1.927634</td>\n      <td>1.644482</td>\n    </tr>\n    <tr>\n      <th>1</th>\n      <td>0.006511</td>\n      <td>0.269747</td>\n      <td>0.131947</td>\n      <td>2.376865</td>\n      <td>1.968660</td>\n    </tr>\n    <tr>\n      <th>2</th>\n      <td>0.049381</td>\n      <td>0.894550</td>\n      <td>0.247526</td>\n      <td>4.507428</td>\n      <td>3.315972</td>\n    </tr>\n    <tr>\n      <th>3</th>\n      <td>0.391872</td>\n      <td>2.376047</td>\n      <td>0.084128</td>\n      <td>5.023554</td>\n      <td>2.171507</td>\n    </tr>\n    <tr>\n      <th>4</th>\n      <td>3.338706</td>\n      <td>3.652877</td>\n      <td>0.078437</td>\n      <td>8.966324</td>\n      <td>1.896305</td>\n    </tr>\n    <tr>\n      <th>5</th>\n      <td>29.975894</td>\n      <td>14.941199</td>\n      <td>0.282375</td>\n      <td>49.723011</td>\n      <td>4.523543</td>\n    </tr>\n    <tr>\n      <th>6</th>\n      <td>259.202071</td>\n      <td>12.183814</td>\n      <td>1.050224</td>\n      <td>285.927049</td>\n      <td>13.490939</td>\n    </tr>\n  </tbody>\n</table>\n</div>"
     },
     "execution_count": 6,
     "metadata": {},
     "output_type": "execute_result"
    }
   ],
   "source": [
    "costs_before = ginkgo_non_solve_cost(before_db)\n",
    "costs_before\n"
   ],
   "metadata": {
    "collapsed": false,
    "pycharm": {
     "name": "#%%\n"
    }
   }
  },
  {
   "cell_type": "code",
   "execution_count": 7,
   "outputs": [],
   "source": [
    "json_g = [f.path for f in os.scandir(\"tokamak-pa-mi100/\") if \".json\" in f.name]\n",
    "json_p = [f.path for f in os.scandir(\"tokamak-mi100/\") if \"petsc\" in f.name and \".json\" in f.name]"
   ],
   "metadata": {
    "collapsed": false,
    "pycharm": {
     "name": "#%%\n"
    }
   }
  },
  {
   "cell_type": "code",
   "execution_count": 8,
   "outputs": [],
   "source": [
    "db = Database(json_g + json_p)"
   ],
   "metadata": {
    "collapsed": false,
    "pycharm": {
     "name": "#%%\n"
    }
   }
  },
  {
   "cell_type": "code",
   "execution_count": 9,
   "outputs": [],
   "source": [
    "df = db.get_df(\"coarse grid solver\")"
   ],
   "metadata": {
    "collapsed": false,
    "pycharm": {
     "name": "#%%\n"
    }
   }
  },
  {
   "cell_type": "code",
   "execution_count": 10,
   "outputs": [
    {
     "data": {
      "text/plain": "node    assembly   cg_apply     setup      total      rest\nmin_l                                                     \n0.0     0.000511   0.645631  0.092669   0.776804  0.037993\n1.0     0.001106   0.950366  0.094445   1.085458  0.039542\n2.0     0.005027   1.251847  0.092006   1.394212  0.045331\n3.0     0.033261   1.329838  0.130315   1.559492  0.066078\n4.0     0.245907   3.287023  0.245811   4.073962  0.295221\n5.0     2.343615  14.820400  0.460540  21.057529  3.432974\n6.0    28.947610  11.686851  2.285037  46.655706  3.736207",
      "text/html": "<div>\n<style scoped>\n    .dataframe tbody tr th:only-of-type {\n        vertical-align: middle;\n    }\n\n    .dataframe tbody tr th {\n        vertical-align: top;\n    }\n\n    .dataframe thead th {\n        text-align: right;\n    }\n</style>\n<table border=\"1\" class=\"dataframe\">\n  <thead>\n    <tr style=\"text-align: right;\">\n      <th>node</th>\n      <th>assembly</th>\n      <th>cg_apply</th>\n      <th>setup</th>\n      <th>total</th>\n      <th>rest</th>\n    </tr>\n    <tr>\n      <th>min_l</th>\n      <th></th>\n      <th></th>\n      <th></th>\n      <th></th>\n      <th></th>\n    </tr>\n  </thead>\n  <tbody>\n    <tr>\n      <th>0.0</th>\n      <td>0.000511</td>\n      <td>0.645631</td>\n      <td>0.092669</td>\n      <td>0.776804</td>\n      <td>0.037993</td>\n    </tr>\n    <tr>\n      <th>1.0</th>\n      <td>0.001106</td>\n      <td>0.950366</td>\n      <td>0.094445</td>\n      <td>1.085458</td>\n      <td>0.039542</td>\n    </tr>\n    <tr>\n      <th>2.0</th>\n      <td>0.005027</td>\n      <td>1.251847</td>\n      <td>0.092006</td>\n      <td>1.394212</td>\n      <td>0.045331</td>\n    </tr>\n    <tr>\n      <th>3.0</th>\n      <td>0.033261</td>\n      <td>1.329838</td>\n      <td>0.130315</td>\n      <td>1.559492</td>\n      <td>0.066078</td>\n    </tr>\n    <tr>\n      <th>4.0</th>\n      <td>0.245907</td>\n      <td>3.287023</td>\n      <td>0.245811</td>\n      <td>4.073962</td>\n      <td>0.295221</td>\n    </tr>\n    <tr>\n      <th>5.0</th>\n      <td>2.343615</td>\n      <td>14.820400</td>\n      <td>0.460540</td>\n      <td>21.057529</td>\n      <td>3.432974</td>\n    </tr>\n    <tr>\n      <th>6.0</th>\n      <td>28.947610</td>\n      <td>11.686851</td>\n      <td>2.285037</td>\n      <td>46.655706</td>\n      <td>3.736207</td>\n    </tr>\n  </tbody>\n</table>\n</div>"
     },
     "execution_count": 10,
     "metadata": {},
     "output_type": "execute_result"
    }
   ],
   "source": [
    "costs = ginkgo_non_solve_cost(db)\n",
    "costs"
   ],
   "metadata": {
    "collapsed": false,
    "pycharm": {
     "name": "#%%\n"
    }
   }
  },
  {
   "cell_type": "code",
   "execution_count": 11,
   "outputs": [
    {
     "data": {
      "text/plain": "             seq        par\nmin_l                      \n0       0.176719   0.645631\n1       0.269747   0.950366\n2       0.894550   1.251847\n3       2.376047   1.329838\n4       3.652877   3.287023\n5      14.941199  14.820400\n6      12.183814  11.686851",
      "text/html": "<div>\n<style scoped>\n    .dataframe tbody tr th:only-of-type {\n        vertical-align: middle;\n    }\n\n    .dataframe tbody tr th {\n        vertical-align: top;\n    }\n\n    .dataframe thead th {\n        text-align: right;\n    }\n</style>\n<table border=\"1\" class=\"dataframe\">\n  <thead>\n    <tr style=\"text-align: right;\">\n      <th></th>\n      <th>seq</th>\n      <th>par</th>\n    </tr>\n    <tr>\n      <th>min_l</th>\n      <th></th>\n      <th></th>\n    </tr>\n  </thead>\n  <tbody>\n    <tr>\n      <th>0</th>\n      <td>0.176719</td>\n      <td>0.645631</td>\n    </tr>\n    <tr>\n      <th>1</th>\n      <td>0.269747</td>\n      <td>0.950366</td>\n    </tr>\n    <tr>\n      <th>2</th>\n      <td>0.894550</td>\n      <td>1.251847</td>\n    </tr>\n    <tr>\n      <th>3</th>\n      <td>2.376047</td>\n      <td>1.329838</td>\n    </tr>\n    <tr>\n      <th>4</th>\n      <td>3.652877</td>\n      <td>3.287023</td>\n    </tr>\n    <tr>\n      <th>5</th>\n      <td>14.941199</td>\n      <td>14.820400</td>\n    </tr>\n    <tr>\n      <th>6</th>\n      <td>12.183814</td>\n      <td>11.686851</td>\n    </tr>\n  </tbody>\n</table>\n</div>"
     },
     "execution_count": 11,
     "metadata": {},
     "output_type": "execute_result"
    }
   ],
   "source": [
    "apply_rt = pd.concat([costs_before.cg_apply.rename(\"seq\"),\n",
    "                      costs.cg_apply.rename(\"par\")], axis=1)\n",
    "apply_rt"
   ],
   "metadata": {
    "collapsed": false,
    "pycharm": {
     "name": "#%%\n"
    }
   }
  },
  {
   "cell_type": "code",
   "execution_count": 16,
   "outputs": [
    {
     "data": {
      "text/plain": "              seq        par\nmin_l                       \n0        0.000972   0.000511\n1        0.006511   0.001106\n2        0.049381   0.005027\n3        0.391872   0.033261\n4        3.338706   0.245907\n5       29.975894   2.343615\n6      259.202071  28.947610",
      "text/html": "<div>\n<style scoped>\n    .dataframe tbody tr th:only-of-type {\n        vertical-align: middle;\n    }\n\n    .dataframe tbody tr th {\n        vertical-align: top;\n    }\n\n    .dataframe thead th {\n        text-align: right;\n    }\n</style>\n<table border=\"1\" class=\"dataframe\">\n  <thead>\n    <tr style=\"text-align: right;\">\n      <th></th>\n      <th>seq</th>\n      <th>par</th>\n    </tr>\n    <tr>\n      <th>min_l</th>\n      <th></th>\n      <th></th>\n    </tr>\n  </thead>\n  <tbody>\n    <tr>\n      <th>0</th>\n      <td>0.000972</td>\n      <td>0.000511</td>\n    </tr>\n    <tr>\n      <th>1</th>\n      <td>0.006511</td>\n      <td>0.001106</td>\n    </tr>\n    <tr>\n      <th>2</th>\n      <td>0.049381</td>\n      <td>0.005027</td>\n    </tr>\n    <tr>\n      <th>3</th>\n      <td>0.391872</td>\n      <td>0.033261</td>\n    </tr>\n    <tr>\n      <th>4</th>\n      <td>3.338706</td>\n      <td>0.245907</td>\n    </tr>\n    <tr>\n      <th>5</th>\n      <td>29.975894</td>\n      <td>2.343615</td>\n    </tr>\n    <tr>\n      <th>6</th>\n      <td>259.202071</td>\n      <td>28.947610</td>\n    </tr>\n  </tbody>\n</table>\n</div>"
     },
     "execution_count": 16,
     "metadata": {},
     "output_type": "execute_result"
    }
   ],
   "source": [
    "asm_rt = pd.concat([costs_before.assembly.rename(\"seq\"),\n",
    "                    costs.assembly.rename(\"par\")], axis=1)\n",
    "asm_rt"
   ],
   "metadata": {
    "collapsed": false,
    "pycharm": {
     "name": "#%%\n"
    }
   }
  },
  {
   "cell_type": "code",
   "execution_count": 15,
   "outputs": [
    {
     "data": {
      "text/plain": "<Figure size 432x288 with 1 Axes>",
      "image/png": "[encoded data removed]"
     },
     "metadata": {
      "needs_background": "light"
     },
     "output_type": "display_data"
    }
   ],
   "source": [
    "fig, ax = plt.subplots()\n",
    "apply_rt.plot(ax=ax, legend=True)\n",
    "ax.set_ylabel(\"CG Total Runtime\")\n",
    "ax.set_xlabel(\"Coarse Grid Level\")\n",
    "fig.savefig(\"cg_apply_runtime\")\n"
   ],
   "metadata": {
    "collapsed": false,
    "pycharm": {
     "name": "#%%\n"
    }
   }
  },
  {
   "cell_type": "code",
   "execution_count": 26,
   "outputs": [
    {
     "data": {
      "text/plain": "<Figure size 432x288 with 1 Axes>",
      "image/png": "[encoded data removed]"
     },
     "metadata": {
      "needs_background": "light"
     },
     "output_type": "display_data"
    }
   ],
   "source": [
    "fig, ax = plt.subplots()\n",
    "(asm_rt.seq / asm_rt.par).plot(ax=ax, legend=False)\n",
    "ax.axhline(16, c=\"r\", ls=\"--\", label=\"Ideal\")\n",
    "ax.set_ylabel(\"Assembly Parallel Speedup\")\n",
    "ax.set_xlabel(\"Coarse Grid Level\")\n",
    "#ax.set_yscale(\"log\")\n",
    "fig.savefig(\"asm_speedup\")\n"
   ],
   "metadata": {
    "collapsed": false,
    "pycharm": {
     "name": "#%%\n"
    }
   }
  }
 ],
 "metadata": {
  "kernelspec": {
   "display_name": "Python 3",
   "language": "python",
   "name": "python3"
  },
  "language_info": {
   "codemirror_mode": {
    "name": "ipython",
    "version": 2
   },
   "file_extension": ".py",
   "mimetype": "text/x-python",
   "name": "python",
   "nbconvert_exporter": "python",
   "pygments_lexer": "ipython2",
   "version": "2.7.6"
  }
 },
 "nbformat": 4,
 "nbformat_minor": 0
}