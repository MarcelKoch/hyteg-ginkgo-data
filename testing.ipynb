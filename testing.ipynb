{
 "cells": [
  {
   "cell_type": "code",
   "execution_count": 1,
   "outputs": [],
   "source": [
    "import json as js\n"
   ],
   "metadata": {
    "collapsed": false,
    "pycharm": {
     "name": "#%%\n"
    }
   }
  },
  {
   "cell_type": "code",
   "execution_count": 2,
   "outputs": [],
   "source": [
    "import os\n",
    "import re\n",
    "\n",
    "import pandas as pd\n",
    "\n",
    "from process import *\n",
    "from tokamak_helpers import *"
   ],
   "metadata": {
    "collapsed": false,
    "pycharm": {
     "name": "#%%\n"
    }
   }
  },
  {
   "cell_type": "code",
   "execution_count": 3,
   "outputs": [],
   "source": [
    "def get_metadata(file):\n",
    "    name_re = re.compile(r\"pre-(\\w+-)?(\\w+)-(\\d)-(\\d+)\")\n",
    "    match = name_re.search(file)\n",
    "    if match:\n",
    "        return{\"pre\": match.group(2),\n",
    "               \"min_l\": int(match.group(3)),\n",
    "               \"nodes\": int(match.group(4)),\n",
    "               \"agg\": bool(match.group(1))}\n",
    "    else:\n",
    "        raise RuntimeError"
   ],
   "metadata": {
    "collapsed": false,
    "pycharm": {
     "name": "#%%\n"
    }
   }
  },
  {
   "cell_type": "code",
   "execution_count": 4,
   "outputs": [],
   "source": [
    "def process_log(filename):\n",
    "    min_dofs = float(\"inf\")\n",
    "    max_dofs = 0\n",
    "    iters = []\n",
    "    with open(filename) as file:\n",
    "        for line in file:\n",
    "            dofs_re = re.compile(r\"\\)\\s+(\\d+)\\s+\\|\\s+\\d+\\s+\\|\\s+(\\d+)\")\n",
    "            it_re = re.compile(r\"\\[Ginkgo CG]\\s+converged\\s+after\\s+(\\d+)\")\n",
    "            if match := dofs_re.search(line):\n",
    "                dof = int(match.group(2))\n",
    "                max_dofs = max(max_dofs, dof)\n",
    "                min_dofs = min(min_dofs, dof)\n",
    "            elif match := it_re.search(line):\n",
    "                iters.append(int(match.group(1)))\n",
    "    return {**get_metadata(filename), \"min_dofs\": min_dofs, \"max_dofs\":max_dofs,\n",
    "            \"gmg_it\": len(iters), \"it\": sum(iters)}"
   ],
   "metadata": {
    "collapsed": false,
    "pycharm": {
     "name": "#%%\n"
    }
   }
  },
  {
   "cell_type": "code",
   "execution_count": 8,
   "outputs": [],
   "source": [
    "\n",
    "jsons = [f.path for f in os.scandir(\"gko-pre\") if f.name.endswith(\".json\")]\n",
    "logs = [f.path for f in os.scandir(\"gko-pre\") if f.name.endswith(\".log\")]"
   ],
   "metadata": {
    "collapsed": false,
    "pycharm": {
     "name": "#%%\n"
    }
   }
  },
  {
   "cell_type": "code",
   "execution_count": 9,
   "outputs": [],
   "source": [
    "db = Database(jsons, get_metadata)"
   ],
   "metadata": {
    "collapsed": false,
    "pycharm": {
     "name": "#%%\n"
    }
   }
  },
  {
   "cell_type": "code",
   "execution_count": 10,
   "outputs": [
    {
     "data": {
      "text/plain": "                             min_dofs    max_dofs  gmg_it    it\npre        min_l nodes agg                                     \ngko_ilu    1     2     True       766   114825259       7    70\n           2     16    True      4818   912571536       9   201\n                 8     True      2246   406155182      10   150\n           3     128   True     32997  2978101016       9   402\n                 64    True     15040  3234745378      10   320\ngko_jacobi 1     2     True       766   114825259       7   172\n           2     16    True      4818   912571536       9   501\n                 8     True      2246   406155182      10   390\n           3     128   True     32997  2978101016       9  1066\n                 64    True     15040  3234745378      10   874",
      "text/html": "<div>\n<style scoped>\n    .dataframe tbody tr th:only-of-type {\n        vertical-align: middle;\n    }\n\n    .dataframe tbody tr th {\n        vertical-align: top;\n    }\n\n    .dataframe thead th {\n        text-align: right;\n    }\n</style>\n<table border=\"1\" class=\"dataframe\">\n  <thead>\n    <tr style=\"text-align: right;\">\n      <th></th>\n      <th></th>\n      <th></th>\n      <th></th>\n      <th>min_dofs</th>\n      <th>max_dofs</th>\n      <th>gmg_it</th>\n      <th>it</th>\n    </tr>\n    <tr>\n      <th>pre</th>\n      <th>min_l</th>\n      <th>nodes</th>\n      <th>agg</th>\n      <th></th>\n      <th></th>\n      <th></th>\n      <th></th>\n    </tr>\n  </thead>\n  <tbody>\n    <tr>\n      <th rowspan=\"5\" valign=\"top\">gko_ilu</th>\n      <th>1</th>\n      <th>2</th>\n      <th>True</th>\n      <td>766</td>\n      <td>114825259</td>\n      <td>7</td>\n      <td>70</td>\n    </tr>\n    <tr>\n      <th rowspan=\"2\" valign=\"top\">2</th>\n      <th>16</th>\n      <th>True</th>\n      <td>4818</td>\n      <td>912571536</td>\n      <td>9</td>\n      <td>201</td>\n    </tr>\n    <tr>\n      <th>8</th>\n      <th>True</th>\n      <td>2246</td>\n      <td>406155182</td>\n      <td>10</td>\n      <td>150</td>\n    </tr>\n    <tr>\n      <th rowspan=\"2\" valign=\"top\">3</th>\n      <th>128</th>\n      <th>True</th>\n      <td>32997</td>\n      <td>2978101016</td>\n      <td>9</td>\n      <td>402</td>\n    </tr>\n    <tr>\n      <th>64</th>\n      <th>True</th>\n      <td>15040</td>\n      <td>3234745378</td>\n      <td>10</td>\n      <td>320</td>\n    </tr>\n    <tr>\n      <th rowspan=\"5\" valign=\"top\">gko_jacobi</th>\n      <th>1</th>\n      <th>2</th>\n      <th>True</th>\n      <td>766</td>\n      <td>114825259</td>\n      <td>7</td>\n      <td>172</td>\n    </tr>\n    <tr>\n      <th rowspan=\"2\" valign=\"top\">2</th>\n      <th>16</th>\n      <th>True</th>\n      <td>4818</td>\n      <td>912571536</td>\n      <td>9</td>\n      <td>501</td>\n    </tr>\n    <tr>\n      <th>8</th>\n      <th>True</th>\n      <td>2246</td>\n      <td>406155182</td>\n      <td>10</td>\n      <td>390</td>\n    </tr>\n    <tr>\n      <th rowspan=\"2\" valign=\"top\">3</th>\n      <th>128</th>\n      <th>True</th>\n      <td>32997</td>\n      <td>2978101016</td>\n      <td>9</td>\n      <td>1066</td>\n    </tr>\n    <tr>\n      <th>64</th>\n      <th>True</th>\n      <td>15040</td>\n      <td>3234745378</td>\n      <td>10</td>\n      <td>874</td>\n    </tr>\n  </tbody>\n</table>\n</div>"
     },
     "execution_count": 10,
     "metadata": {},
     "output_type": "execute_result"
    }
   ],
   "source": [
    "it = pd.DataFrame([process_log(f) for f in logs])\n",
    "it = it.set_index([\"pre\", \"min_l\", \"nodes\", \"agg\"])\n",
    "it"
   ],
   "metadata": {
    "collapsed": false,
    "pycharm": {
     "name": "#%%\n"
    }
   }
  },
  {
   "cell_type": "code",
   "execution_count": 14,
   "outputs": [
    {
     "data": {
      "text/plain": "                               average   count        max        min  \\\npre        min_l nodes agg                                             \ngko_ilu    1     2     True  23.880671   152.0  23.880682  23.880641   \n           2     8     True  34.320119   608.0  34.320128  34.320075   \n                 16    True  33.417559  1216.0  33.417595  33.417529   \n           3     64    True  35.514466  4864.0  35.515920  35.514349   \n                 128   True  39.213067  9728.0  39.215623  39.211280   \ngko_jacobi 1     2     True  25.772929   152.0  25.772942  25.772885   \n           2     8     True  32.923537   608.0  32.923553  32.923382   \n                 16    True  33.564529  1216.0  33.564546  33.561706   \n           3     64    True  36.279286  4864.0  36.282522  36.279240   \n                 128   True  37.701596  9728.0  37.705285  37.698664   \n\n                                     total      variance  min_dofs  \\\npre        min_l nodes agg                                           \ngko_ilu    1     2     True    3629.862032  4.087458e-11       766   \n           2     8     True   20866.632118  1.614231e-11      2246   \n                 16    True   40635.752342  1.355646e-11      4818   \n           3     64    True  172742.362878  1.750578e-09     15040   \n                 128   True  381464.716242  1.583629e-08     32997   \ngko_jacobi 1     2     True    3917.485268  3.333843e-11       766   \n           2     8     True   20017.510539  5.176753e-11      2246   \n                 16    True   40814.467643  6.572234e-09      4818   \n           3     64    True  176462.446429  2.200221e-09     15040   \n                 128   True  366761.128757  2.353598e-09     32997   \n\n                               max_dofs  gmg_it    it  \npre        min_l nodes agg                             \ngko_ilu    1     2     True   114825259       7    70  \n           2     8     True   406155182      10   150  \n                 16    True   912571536       9   201  \n           3     64    True  3234745378      10   320  \n                 128   True  2978101016       9   402  \ngko_jacobi 1     2     True   114825259       7   172  \n           2     8     True   406155182      10   390  \n                 16    True   912571536       9   501  \n           3     64    True  3234745378      10   874  \n                 128   True  2978101016       9  1066  ",
      "text/html": "<div>\n<style scoped>\n    .dataframe tbody tr th:only-of-type {\n        vertical-align: middle;\n    }\n\n    .dataframe tbody tr th {\n        vertical-align: top;\n    }\n\n    .dataframe thead th {\n        text-align: right;\n    }\n</style>\n<table border=\"1\" class=\"dataframe\">\n  <thead>\n    <tr style=\"text-align: right;\">\n      <th></th>\n      <th></th>\n      <th></th>\n      <th></th>\n      <th>average</th>\n      <th>count</th>\n      <th>max</th>\n      <th>min</th>\n      <th>total</th>\n      <th>variance</th>\n      <th>min_dofs</th>\n      <th>max_dofs</th>\n      <th>gmg_it</th>\n      <th>it</th>\n    </tr>\n    <tr>\n      <th>pre</th>\n      <th>min_l</th>\n      <th>nodes</th>\n      <th>agg</th>\n      <th></th>\n      <th></th>\n      <th></th>\n      <th></th>\n      <th></th>\n      <th></th>\n      <th></th>\n      <th></th>\n      <th></th>\n      <th></th>\n    </tr>\n  </thead>\n  <tbody>\n    <tr>\n      <th rowspan=\"5\" valign=\"top\">gko_ilu</th>\n      <th>1</th>\n      <th>2</th>\n      <th>True</th>\n      <td>23.880671</td>\n      <td>152.0</td>\n      <td>23.880682</td>\n      <td>23.880641</td>\n      <td>3629.862032</td>\n      <td>4.087458e-11</td>\n      <td>766</td>\n      <td>114825259</td>\n      <td>7</td>\n      <td>70</td>\n    </tr>\n    <tr>\n      <th rowspan=\"2\" valign=\"top\">2</th>\n      <th>8</th>\n      <th>True</th>\n      <td>34.320119</td>\n      <td>608.0</td>\n      <td>34.320128</td>\n      <td>34.320075</td>\n      <td>20866.632118</td>\n      <td>1.614231e-11</td>\n      <td>2246</td>\n      <td>406155182</td>\n      <td>10</td>\n      <td>150</td>\n    </tr>\n    <tr>\n      <th>16</th>\n      <th>True</th>\n      <td>33.417559</td>\n      <td>1216.0</td>\n      <td>33.417595</td>\n      <td>33.417529</td>\n      <td>40635.752342</td>\n      <td>1.355646e-11</td>\n      <td>4818</td>\n      <td>912571536</td>\n      <td>9</td>\n      <td>201</td>\n    </tr>\n    <tr>\n      <th rowspan=\"2\" valign=\"top\">3</th>\n      <th>64</th>\n      <th>True</th>\n      <td>35.514466</td>\n      <td>4864.0</td>\n      <td>35.515920</td>\n      <td>35.514349</td>\n      <td>172742.362878</td>\n      <td>1.750578e-09</td>\n      <td>15040</td>\n      <td>3234745378</td>\n      <td>10</td>\n      <td>320</td>\n    </tr>\n    <tr>\n      <th>128</th>\n      <th>True</th>\n      <td>39.213067</td>\n      <td>9728.0</td>\n      <td>39.215623</td>\n      <td>39.211280</td>\n      <td>381464.716242</td>\n      <td>1.583629e-08</td>\n      <td>32997</td>\n      <td>2978101016</td>\n      <td>9</td>\n      <td>402</td>\n    </tr>\n    <tr>\n      <th rowspan=\"5\" valign=\"top\">gko_jacobi</th>\n      <th>1</th>\n      <th>2</th>\n      <th>True</th>\n      <td>25.772929</td>\n      <td>152.0</td>\n      <td>25.772942</td>\n      <td>25.772885</td>\n      <td>3917.485268</td>\n      <td>3.333843e-11</td>\n      <td>766</td>\n      <td>114825259</td>\n      <td>7</td>\n      <td>172</td>\n    </tr>\n    <tr>\n      <th rowspan=\"2\" valign=\"top\">2</th>\n      <th>8</th>\n      <th>True</th>\n      <td>32.923537</td>\n      <td>608.0</td>\n      <td>32.923553</td>\n      <td>32.923382</td>\n      <td>20017.510539</td>\n      <td>5.176753e-11</td>\n      <td>2246</td>\n      <td>406155182</td>\n      <td>10</td>\n      <td>390</td>\n    </tr>\n    <tr>\n      <th>16</th>\n      <th>True</th>\n      <td>33.564529</td>\n      <td>1216.0</td>\n      <td>33.564546</td>\n      <td>33.561706</td>\n      <td>40814.467643</td>\n      <td>6.572234e-09</td>\n      <td>4818</td>\n      <td>912571536</td>\n      <td>9</td>\n      <td>501</td>\n    </tr>\n    <tr>\n      <th rowspan=\"2\" valign=\"top\">3</th>\n      <th>64</th>\n      <th>True</th>\n      <td>36.279286</td>\n      <td>4864.0</td>\n      <td>36.282522</td>\n      <td>36.279240</td>\n      <td>176462.446429</td>\n      <td>2.200221e-09</td>\n      <td>15040</td>\n      <td>3234745378</td>\n      <td>10</td>\n      <td>874</td>\n    </tr>\n    <tr>\n      <th>128</th>\n      <th>True</th>\n      <td>37.701596</td>\n      <td>9728.0</td>\n      <td>37.705285</td>\n      <td>37.698664</td>\n      <td>366761.128757</td>\n      <td>2.353598e-09</td>\n      <td>32997</td>\n      <td>2978101016</td>\n      <td>9</td>\n      <td>1066</td>\n    </tr>\n  </tbody>\n</table>\n</div>"
     },
     "execution_count": 14,
     "metadata": {},
     "output_type": "execute_result"
    }
   ],
   "source": [
    "solve = db.get_df(\"solve\").drop(columns=[\"node\"])\n",
    "solve = solve.groupby([\"pre\", \"min_l\", \"nodes\", \"agg\"]).median()\n",
    "solve = pd.concat([solve, it], axis=1)\n",
    "solve = solve.query(\"min_l < 4 and agg == True\")\n",
    "solve"
   ],
   "metadata": {
    "collapsed": false,
    "pycharm": {
     "name": "#%%\n"
    }
   }
  },
  {
   "cell_type": "code",
   "execution_count": 15,
   "outputs": [
    {
     "data": {
      "text/plain": "pre         min_l  nodes  agg \ngko_ilu     1      2      True    3.411524\n            2      8      True    3.432012\n                   16     True    3.713062\n            3      64     True    3.551447\n                   128    True    4.357007\ngko_jacobi  1      2      True    3.681847\n            2      8      True    3.292354\n                   16     True    3.729392\n            3      64     True    3.627929\n                   128    True    4.189066\ndtype: float64"
     },
     "execution_count": 15,
     "metadata": {},
     "output_type": "execute_result"
    }
   ],
   "source": [
    "solve.average / solve.gmg_it"
   ],
   "metadata": {
    "collapsed": false,
    "pycharm": {
     "name": "#%%\n"
    }
   }
  },
  {
   "cell_type": "code",
   "execution_count": 12,
   "outputs": [
    {
     "data": {
      "text/plain": "agg                         True\npre        min_l nodes          \ngko_ilu    1     2      0.012522\n           2     8      0.020693\n                 16     0.036351\n           3     64     0.064822\n                 128    0.127488\ngko_jacobi 1     2      0.007626\n           2     8      0.015490\n                 16     0.020905\n           3     64     0.043464\n                 128    0.057044",
      "text/html": "<div>\n<style scoped>\n    .dataframe tbody tr th:only-of-type {\n        vertical-align: middle;\n    }\n\n    .dataframe tbody tr th {\n        vertical-align: top;\n    }\n\n    .dataframe thead th {\n        text-align: right;\n    }\n</style>\n<table border=\"1\" class=\"dataframe\">\n  <thead>\n    <tr style=\"text-align: right;\">\n      <th></th>\n      <th></th>\n      <th>agg</th>\n      <th>True</th>\n    </tr>\n    <tr>\n      <th>pre</th>\n      <th>min_l</th>\n      <th>nodes</th>\n      <th></th>\n    </tr>\n  </thead>\n  <tbody>\n    <tr>\n      <th rowspan=\"5\" valign=\"top\">gko_ilu</th>\n      <th>1</th>\n      <th>2</th>\n      <td>0.012522</td>\n    </tr>\n    <tr>\n      <th rowspan=\"2\" valign=\"top\">2</th>\n      <th>8</th>\n      <td>0.020693</td>\n    </tr>\n    <tr>\n      <th>16</th>\n      <td>0.036351</td>\n    </tr>\n    <tr>\n      <th rowspan=\"2\" valign=\"top\">3</th>\n      <th>64</th>\n      <td>0.064822</td>\n    </tr>\n    <tr>\n      <th>128</th>\n      <td>0.127488</td>\n    </tr>\n    <tr>\n      <th rowspan=\"5\" valign=\"top\">gko_jacobi</th>\n      <th>1</th>\n      <th>2</th>\n      <td>0.007626</td>\n    </tr>\n    <tr>\n      <th rowspan=\"2\" valign=\"top\">2</th>\n      <th>8</th>\n      <td>0.015490</td>\n    </tr>\n    <tr>\n      <th>16</th>\n      <td>0.020905</td>\n    </tr>\n    <tr>\n      <th rowspan=\"2\" valign=\"top\">3</th>\n      <th>64</th>\n      <td>0.043464</td>\n    </tr>\n    <tr>\n      <th>128</th>\n      <td>0.057044</td>\n    </tr>\n  </tbody>\n</table>\n</div>"
     },
     "execution_count": 12,
     "metadata": {},
     "output_type": "execute_result"
    }
   ],
   "source": [
    "cgc = db.get_df(\"coarse grid\").drop(columns=[\"node\"])\n",
    "cgc = cgc.groupby([\"pre\", \"min_l\", \"nodes\", \"agg\"]).median()\n",
    "cgc = pd.concat([cgc, it], axis=1)\n",
    "cgc.query(\"min_l < 4\")[\"average\"].unstack(\"agg\")"
   ],
   "metadata": {
    "collapsed": false,
    "pycharm": {
     "name": "#%%\n"
    }
   }
  },
  {
   "cell_type": "code",
   "execution_count": 13,
   "outputs": [
    {
     "data": {
      "text/plain": "                                    0\npre        min_l nodes agg           \ngko_ilu    1     2     True  0.000179\n           2     8     True  0.000138\n                 16    True  0.000181\n           3     64    True  0.000203\n                 128   True  0.000317\ngko_jacobi 1     2     True  0.000044\n           2     8     True  0.000040\n                 16    True  0.000042\n           3     64    True  0.000050\n                 128   True  0.000054",
      "text/html": "<div>\n<style scoped>\n    .dataframe tbody tr th:only-of-type {\n        vertical-align: middle;\n    }\n\n    .dataframe tbody tr th {\n        vertical-align: top;\n    }\n\n    .dataframe thead th {\n        text-align: right;\n    }\n</style>\n<table border=\"1\" class=\"dataframe\">\n  <thead>\n    <tr style=\"text-align: right;\">\n      <th></th>\n      <th></th>\n      <th></th>\n      <th></th>\n      <th>0</th>\n    </tr>\n    <tr>\n      <th>pre</th>\n      <th>min_l</th>\n      <th>nodes</th>\n      <th>agg</th>\n      <th></th>\n    </tr>\n  </thead>\n  <tbody>\n    <tr>\n      <th rowspan=\"5\" valign=\"top\">gko_ilu</th>\n      <th>1</th>\n      <th>2</th>\n      <th>True</th>\n      <td>0.000179</td>\n    </tr>\n    <tr>\n      <th rowspan=\"2\" valign=\"top\">2</th>\n      <th>8</th>\n      <th>True</th>\n      <td>0.000138</td>\n    </tr>\n    <tr>\n      <th>16</th>\n      <th>True</th>\n      <td>0.000181</td>\n    </tr>\n    <tr>\n      <th rowspan=\"2\" valign=\"top\">3</th>\n      <th>64</th>\n      <th>True</th>\n      <td>0.000203</td>\n    </tr>\n    <tr>\n      <th>128</th>\n      <th>True</th>\n      <td>0.000317</td>\n    </tr>\n    <tr>\n      <th rowspan=\"5\" valign=\"top\">gko_jacobi</th>\n      <th>1</th>\n      <th>2</th>\n      <th>True</th>\n      <td>0.000044</td>\n    </tr>\n    <tr>\n      <th rowspan=\"2\" valign=\"top\">2</th>\n      <th>8</th>\n      <th>True</th>\n      <td>0.000040</td>\n    </tr>\n    <tr>\n      <th>16</th>\n      <th>True</th>\n      <td>0.000042</td>\n    </tr>\n    <tr>\n      <th rowspan=\"2\" valign=\"top\">3</th>\n      <th>64</th>\n      <th>True</th>\n      <td>0.000050</td>\n    </tr>\n    <tr>\n      <th>128</th>\n      <th>True</th>\n      <td>0.000054</td>\n    </tr>\n  </tbody>\n</table>\n</div>"
     },
     "execution_count": 13,
     "metadata": {},
     "output_type": "execute_result"
    }
   ],
   "source": [
    "pd.DataFrame(cgc.average / cgc.it).query(\"min_l < 4 and agg == True\")"
   ],
   "metadata": {
    "collapsed": false,
    "pycharm": {
     "name": "#%%\n"
    }
   }
  }
 ],
 "metadata": {
  "kernelspec": {
   "name": "python3",
   "language": "python",
   "display_name": "Python 3"
  },
  "language_info": {
   "codemirror_mode": {
    "name": "ipython",
    "version": 2
   },
   "file_extension": ".py",
   "mimetype": "text/x-python",
   "name": "python",
   "nbconvert_exporter": "python",
   "pygments_lexer": "ipython2",
   "version": "2.7.6"
  }
 },
 "nbformat": 4,
 "nbformat_minor": 0
}